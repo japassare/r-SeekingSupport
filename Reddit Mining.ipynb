{
 "cells": [
  {
   "cell_type": "markdown",
   "id": "19223af4",
   "metadata": {},
   "source": [
    "## Reddit Mining\n",
    "\n",
    "In this notebook we're going to use the Reddit API to get Reddit posts. Remember to insert your client id and other credentials in the code below.\n",
    "\n",
    "Also, remember to install the praw library if you haven't already done so."
   ]
  },
  {
   "cell_type": "code",
   "execution_count": 1,
   "id": "cb12443a",
   "metadata": {},
   "outputs": [
    {
     "name": "stdout",
     "output_type": "stream",
     "text": [
      "paul_barrett_cts\n"
     ]
    }
   ],
   "source": [
    "import praw\n",
    "\n",
    "#We have to create a new instance of our reddit connection. You need to fill in these strings.\n",
    "\n",
    "#For client_id use the long string under \"personal use script\" on your Reddit app.\n",
    "#For client_secret use your secret Reddit key\n",
    "#For password use your password\n",
    "#For user_agent use an original name that you come up with, unique to your project\n",
    "#For username use your username\n",
    "reddit = praw.Reddit(client_id='JF7PQeivN-ij4g1p4AjuRw',\n",
    "                     client_secret='1bkX79dhxJ7LTQQE-GdGzqnEn8GegA', \n",
    "                     password='CTS2023!!',\n",
    "                     user_agent='It Paul', \n",
    "                     username='paul_barrett_cts')\n",
    "\n",
    "#If you're correctly connected to the Reddit API, the following line of code will return your Reddit username.\n",
    "#This is a good way to test if your credentials are correct.\n",
    "print(reddit.user.me())"
   ]
  },
  {
   "cell_type": "code",
   "execution_count": 2,
   "id": "8b43e4d2",
   "metadata": {},
   "outputs": [],
   "source": [
    "#To start working with PRAW, we need to create a reddit instance. Let's look at the posts in AITA\n",
    "aita_subreddit = reddit.subreddit('AmItheAsshole')\n",
    "\n",
    "#AITA_HOT and AITA_NEW store the hot & new posts in AITA.\n",
    "aita_hot = aita_subreddit.hot()\n",
    "aita_new = aita_subreddit.new()"
   ]
  },
  {
   "cell_type": "markdown",
   "id": "a932a40f",
   "metadata": {},
   "source": [
    "Be warned: many of the posters in *Am I the Asshole* are, in fact, assholes. Be prepared for poor life choices and dark content:"
   ]
  },
  {
   "cell_type": "markdown",
   "id": "bfda6b4f",
   "metadata": {},
   "source": [
    "#### submission_list and comment_list will store our posts and comments:\n",
    "submission_list = []\n",
    "comment_list = []\n",
    "\n",
    "#For every comment in the hot list:\n",
    "for submission in aita_hot:\n",
    "    #We include this if statement because some Reddit posts are 'stickied' to the top of the forum\n",
    "    #We want to ignore those, so let's do that:\n",
    "    if not submission.stickied:\n",
    "\n",
    "        #Let's print the submission title & the body (selftext)\n",
    "        print(\"---------SUBMISSION---------\")\n",
    "        print(submission.title)\n",
    "        print(submission.selftext)\n",
    "        print(\"----------------------------\")\n",
    "        #Append that submission to our submission list\n",
    "        submission_list.append(submission.selftext)\n",
    "        #Store the comments and loop through each comment:\n",
    "        comments = submission.comments\n",
    "        \n",
    "        #for comment in comments:\n",
    "            #Append this comment to the comment_list\n",
    "            #comment_list.append(comment.body)\n",
    "\n",
    "            #A number of Reddit posts include \"Welcome to...\" to introduce the post / forum\n",
    "            #We don't want to include those in our comment list:\n",
    "            #if \"Welcome to\" not in comment.body:\n",
    "                #Occasionally comments don't have a 'body' (they're spam, they're ads, etc)\n",
    "                #So we use try / except to ensure the code doesn't crash in those cases.\n",
    "            #    try:\n",
    "            #        print(\"------------------COMMENT--------------------\")\n",
    "            #        print(comment.body)\n",
    "            #    except:\n",
    "            #        break"
   ]
  },
  {
   "cell_type": "markdown",
   "id": "0a1778b4",
   "metadata": {},
   "source": [
    "Who are the assholes? The posters or the commenters?\n",
    "\n",
    "In the following code section, calculate the positive and negative sentiment scores of at least 10 posts and at least 50 comments. Who is more positive, who is more negative? Does this exercise tell you anything about the process of sentiment analysis?"
   ]
  },
  {
   "cell_type": "code",
   "execution_count": null,
   "id": "30a10df1",
   "metadata": {},
   "outputs": [],
   "source": []
  },
  {
   "cell_type": "markdown",
   "id": "54d5741e",
   "metadata": {},
   "source": [
    "In this following code section, we're going to load our Reddit posts into a Dataframe"
   ]
  },
  {
   "cell_type": "code",
   "execution_count": 7,
   "id": "4b684e36",
   "metadata": {},
   "outputs": [],
   "source": [
    "#In this case we're going to look at the far nicer (most of the time) people of /r/python\n",
    "py_subreddit = reddit.subreddit('python')\n",
    "\n",
    "#As we read our forum, we'll store the relevant details in these three temporary lists.\n",
    "py_title = []\n",
    "py_upvotes = []\n",
    "py_comments = []\n",
    "\n",
    "#For every submission in top posts (max 200 posts)\n",
    "for submission in py_subreddit.top(limit=200):\n",
    "    py_title.append(submission.title)\n",
    "    py_upvotes.append(submission.score)\n",
    "    py_comments.append(submission.num_comments)\n"
   ]
  },
  {
   "cell_type": "code",
   "execution_count": 9,
   "id": "0d2c96d5",
   "metadata": {},
   "outputs": [
    {
     "data": {
      "text/html": [
       "<div>\n",
       "<style scoped>\n",
       "    .dataframe tbody tr th:only-of-type {\n",
       "        vertical-align: middle;\n",
       "    }\n",
       "\n",
       "    .dataframe tbody tr th {\n",
       "        vertical-align: top;\n",
       "    }\n",
       "\n",
       "    .dataframe thead th {\n",
       "        text-align: right;\n",
       "    }\n",
       "</style>\n",
       "<table border=\"1\" class=\"dataframe\">\n",
       "  <thead>\n",
       "    <tr style=\"text-align: right;\">\n",
       "      <th></th>\n",
       "      <th>title</th>\n",
       "      <th>num_comments</th>\n",
       "      <th>num_upvotes</th>\n",
       "    </tr>\n",
       "  </thead>\n",
       "  <tbody>\n",
       "    <tr>\n",
       "      <th>0</th>\n",
       "      <td>Lad wrote a Python script to download Alexa vo...</td>\n",
       "      <td>133</td>\n",
       "      <td>12349</td>\n",
       "    </tr>\n",
       "    <tr>\n",
       "      <th>1</th>\n",
       "      <td>This post has:</td>\n",
       "      <td>437</td>\n",
       "      <td>9237</td>\n",
       "    </tr>\n",
       "    <tr>\n",
       "      <th>2</th>\n",
       "      <td>I redesign the Python logo to make it more modern</td>\n",
       "      <td>266</td>\n",
       "      <td>7861</td>\n",
       "    </tr>\n",
       "    <tr>\n",
       "      <th>3</th>\n",
       "      <td>Automate the boring stuff with python - tinder</td>\n",
       "      <td>328</td>\n",
       "      <td>6727</td>\n",
       "    </tr>\n",
       "    <tr>\n",
       "      <th>4</th>\n",
       "      <td>Just finished programming and building my own ...</td>\n",
       "      <td>469</td>\n",
       "      <td>6614</td>\n",
       "    </tr>\n",
       "    <tr>\n",
       "      <th>5</th>\n",
       "      <td>I'm excited to share my first published book, ...</td>\n",
       "      <td>249</td>\n",
       "      <td>6500</td>\n",
       "    </tr>\n",
       "    <tr>\n",
       "      <th>6</th>\n",
       "      <td>Drawing Mona Lisa with 256 circles using evolu...</td>\n",
       "      <td>121</td>\n",
       "      <td>5727</td>\n",
       "    </tr>\n",
       "    <tr>\n",
       "      <th>7</th>\n",
       "      <td>I made a simulation using Python in which a ne...</td>\n",
       "      <td>212</td>\n",
       "      <td>5690</td>\n",
       "    </tr>\n",
       "    <tr>\n",
       "      <th>8</th>\n",
       "      <td>Thanks to everyone’s advice, my mouse drawing ...</td>\n",
       "      <td>203</td>\n",
       "      <td>5548</td>\n",
       "    </tr>\n",
       "    <tr>\n",
       "      <th>9</th>\n",
       "      <td>Debugging Cheat Sheet</td>\n",
       "      <td>112</td>\n",
       "      <td>5454</td>\n",
       "    </tr>\n",
       "  </tbody>\n",
       "</table>\n",
       "</div>"
      ],
      "text/plain": [
       "                                               title  num_comments  \\\n",
       "0  Lad wrote a Python script to download Alexa vo...           133   \n",
       "1                                     This post has:           437   \n",
       "2  I redesign the Python logo to make it more modern           266   \n",
       "3     Automate the boring stuff with python - tinder           328   \n",
       "4  Just finished programming and building my own ...           469   \n",
       "5  I'm excited to share my first published book, ...           249   \n",
       "6  Drawing Mona Lisa with 256 circles using evolu...           121   \n",
       "7  I made a simulation using Python in which a ne...           212   \n",
       "8  Thanks to everyone’s advice, my mouse drawing ...           203   \n",
       "9                              Debugging Cheat Sheet           112   \n",
       "\n",
       "   num_upvotes  \n",
       "0        12349  \n",
       "1         9237  \n",
       "2         7861  \n",
       "3         6727  \n",
       "4         6614  \n",
       "5         6500  \n",
       "6         5727  \n",
       "7         5690  \n",
       "8         5548  \n",
       "9         5454  "
      ]
     },
     "execution_count": 9,
     "metadata": {},
     "output_type": "execute_result"
    }
   ],
   "source": [
    "import pandas\n",
    "#Now let's create a new dataframe, using our temporary lists as the values of our data:\n",
    "py_dataframe = pandas.DataFrame(\n",
    "    {'title': py_title,\n",
    "     'num_comments': py_comments,\n",
    "     'num_upvotes': py_upvotes,\n",
    "    })\n",
    "\n",
    "py_dataframe.head(10)"
   ]
  },
  {
   "attachments": {
    "image.png": {
     "image/png": "[encoded data removed]"
    }
   },
   "cell_type": "markdown",
   "id": "561997a0",
   "metadata": {},
   "source": [
    "## 'Listening' in on Reddit:\n",
    "\n",
    "Let's say instead of just getting what's posted on Reddit now, we wanted to collect posts on Reddit as they happen. We can do that using PRAW by calling the 'stream' method. Note that this code will never actually stop running: it connects to Reddit and just keeps adding comments until the internet eventually dies. \n",
    "\n",
    "![image.png](attachment:image.png)\n",
    "\n",
    "This code is adapted from the PRAW Python tutorial; you can read it here:\n",
    "\n",
    "https://pythonprogramming.net/streaming-python-reddit-api-wrapper-praw-tutorial/?completed=/parsing-comments-python-reddit-api-wrapper-praw-tutorial/\n"
   ]
  },
  {
   "cell_type": "code",
   "execution_count": null,
   "id": "d4822729",
   "metadata": {},
   "outputs": [],
   "source": [
    "pretend = {}\n"
   ]
  },
  {
   "cell_type": "code",
   "execution_count": null,
   "id": "c180b158",
   "metadata": {},
   "outputs": [],
   "source": [
    "#So we're going to load posts from the 'news' forum.\n",
    "news_reddit = reddit.subreddit('news')\n",
    "\n",
    "#Note that we're looping through the comments in /r/news. Imagine actually deciding to collect the comments:\n",
    "for comment in news_reddit.stream.comments():\n",
    "    #We have to use a try / except structure because sometimes a comment will have a weird structure\n",
    "    #such that the code under 'try' won't work how we want it to.\n",
    "    try:\n",
    "        print('-----------------------------------------------------------')\n",
    "        print()\n",
    "        parent_id = str(comment.parent())\n",
    "        submission = reddit.comment(parent_id)\n",
    "        print('Parent:')\n",
    "        print(submission.body)\n",
    "        print('Reply')\n",
    "        print(comment.body)\n",
    "    except praw.exceptions.PRAWException as e:\n",
    "        pass"
   ]
  },
  {
   "cell_type": "markdown",
   "id": "6787a5d0",
   "metadata": {},
   "source": [
    "You can use the above code if you'd like to build a dataset from a Reddit forum. Let it run and see how much data you get. \n",
    "\n",
    "**Note: You may want to write your results to a text file to ensure you don't lose them. To do so, read the following instructions on writing to files:\n",
    "\n",
    "https://www.pythontutorial.net/python-basics/python-write-text-file/"
   ]
  },
  {
   "cell_type": "code",
   "execution_count": null,
   "id": "13af6de1",
   "metadata": {},
   "outputs": [],
   "source": [
    "import os\n",
    "import re\n",
    "\n",
    "#Open the Shakespeare corpus:\n",
    "Shakespeare = open(\"CompleteShakespeare.txt\", encoding=\"utf-8\").read()\n",
    "\n",
    "#Function: break_into_sections: Breaks string into a list of equally-sized sections \n",
    "#input: string   -- the string to be divided\n",
    "#input: sections -- the number of sections to break the string into\n",
    "#output: section_list -- a list of strings\n",
    "def break_into_sections(string, sections):\n",
    "    #Create / reset our section_list\n",
    "    section_list = []\n",
    "    section_counter = 0\n",
    "    #The length of each section = length of string / number of sections:\n",
    "    section_length = (len(string) / sections)\n",
    "    \n",
    "    #Loop once for every section:\n",
    "    while section_counter < sections:\n",
    "        #beginning and end store the locations in the string where this section begins and ends\n",
    "        beginning = int(0 + (section_length)*section_counter)\n",
    "        end = int((section_length)*section_counter + section_length)\n",
    "        #Append this string to the section list\n",
    "        section_list.append(string[beginning:end])\n",
    "        #Increment the section counter\n",
    "        section_counter = section_counter + 1\n",
    "    print(len(section_list))\n",
    "    return section_list\n",
    "    \n",
    "section_list = break_into_sections(Shakespeare,10000)"
   ]
  },
  {
   "cell_type": "code",
   "execution_count": null,
   "id": "814fe387",
   "metadata": {},
   "outputs": [],
   "source": [
    "from vaderSentiment.vaderSentiment import SentimentIntensityAnalyzer\n",
    "\n",
    "sentimentAnalyser = SentimentIntensityAnalyzer()\n",
    "\n",
    "for section in section_list:\n",
    "    if str(section).isupper() == 0:\n",
    "        print(sentimentAnalyser.polarity_scores(section))"
   ]
  },
  {
   "cell_type": "markdown",
   "id": "1029a273",
   "metadata": {},
   "source": [
    "For some participation marks, can you edit the above code to figure out the happiest of all of Shakespeare's prose?"
   ]
  },
  {
   "cell_type": "code",
   "execution_count": null,
   "id": "6a3a47a1",
   "metadata": {},
   "outputs": [],
   "source": []
  }
 ],
 "metadata": {
  "kernelspec": {
   "display_name": "Python 3 (ipykernel)",
   "language": "python",
   "name": "python3"
  },
  "language_info": {
   "codemirror_mode": {
    "name": "ipython",
    "version": 3
   },
   "file_extension": ".py",
   "mimetype": "text/x-python",
   "name": "python",
   "nbconvert_exporter": "python",
   "pygments_lexer": "ipython3",
   "version": "3.10.9"
  }
 },
 "nbformat": 4,
 "nbformat_minor": 5
}
